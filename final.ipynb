{
 "cells": [
  {
   "cell_type": "code",
   "execution_count": 1,
   "id": "152fd1f2-9a47-4cc2-a351-d05613c5ed88",
   "metadata": {},
   "outputs": [],
   "source": [
    "import json\n",
    "import requests\n",
    "from PIL import Image\n",
    "\n",
    "import numpy as np\n",
    "import pandas as pd\n",
    "import matplotlib.pyplot as plt\n",
    "import seaborn as sns\n",
    "import plotly.express as px\n",
    "import plotly.io as pio\n",
    "\n",
    "# 设置绘图参数\n",
    "custom_params = {\n",
    "    \"axes.spines.right\": False,\n",
    "    \"axes.spines.top\": False,\n",
    "    \"text.usetex\" : True,\n",
    "    \"font.family\" : \"serif\",\n",
    "    \"font.serif\" : [\"Computer Modern Serif\"]\n",
    "}\n",
    "# 注意：需要有安装的 TeX 发行版，否则在使用matplotlib和seaborn时会报错！\n",
    "sns.set_theme(style=\"ticks\", rc=custom_params)"
   ]
  },
  {
   "cell_type": "code",
   "execution_count": 2,
   "outputs": [
    {
     "name": "stdout",
     "output_type": "stream",
     "text": [
      "Python 3.10.11 (main, Apr  5 2023, 14:15:10) [GCC 9.4.0] on linux\n"
     ]
    }
   ],
   "source": [
    "import sys; print('Python %s on %s' % (sys.version, sys.platform))"
   ],
   "metadata": {
    "collapsed": false
   }
  },
  {
   "cell_type": "code",
   "execution_count": 12,
   "outputs": [],
   "source": [
    "from sklearn.decomposition import PCA\n",
    "from sklearn.manifold import TSNE"
   ],
   "metadata": {
    "collapsed": false
   }
  },
  {
   "cell_type": "markdown",
   "source": [
    "# Preprocessing"
   ],
   "metadata": {
    "collapsed": false
   }
  },
  {
   "cell_type": "code",
   "execution_count": 11,
   "id": "5cf1a1a9-b245-40b7-92aa-6a5cddbc397f",
   "metadata": {},
   "outputs": [],
   "source": [
    "df = pd.read_csv(\"./data/rumor_data.csv\", index_col=0)"
   ]
  },
  {
   "cell_type": "code",
   "execution_count": 12,
   "outputs": [
    {
     "data": {
      "text/plain": "         date      source                                            content   \n0  2022-02-18     北京日报客户端                          有人从香港游泳偷渡到深圳湾被捕？假的！系轻生被救！  \\\n1  2022-02-18    大河报、羊城晚报   近日，社交媒体上一则题为“河南一位老爷爷考上清华大学被顶替”的消息引发网友关注和转发。消息...   \n2  2022-02-17   南方都市报、大众网   近日，网传湖南衡阳“南岳衡山寺庙”高薪招聘住持，月薪高达5万元，弹性工作制，下班后原则上不...   \n3  2022-02-17  江苏省互联网举报中心   近日，网传消息称“苏州市独墅湖医院正在建方舱”。该消息发布后，引发关注讨论。 经核实，网传...   \n4  2022-02-16       中国新闻网                          在塞企业组织包机载客回国？中国驻塞内加尔使馆辟谣！   \n\n  province  user_0  user_1  user_2  user_3  user_4  user_5  ...  user_9   \n0       广东       0       0       0       0       0       0  ...       0  \\\n1       河南       0       0       0       0       0       1  ...       0   \n2       湖南       0       0       0       0       0       0  ...       0   \n3       江苏       0       0       0       0       0       0  ...       0   \n4      NaN       0       0       0       0       0       0  ...       0   \n\n   user_10  user_11  user_12  user_13  user_14  user_15  user_16  user_17   \n0        0        0        0        0        0        0        0        0  \\\n1        0        0        0        0        0        0        0        0   \n2        0        0        0        0        0        1        0        0   \n3        0        0        0        0        0        0        0        0   \n4        0        0        0        0        0        0        0        0   \n\n   like  \n0     0  \n1    41  \n2    26  \n3    31  \n4     0  \n\n[5 rows x 23 columns]",
      "text/html": "<div>\n<style scoped>\n    .dataframe tbody tr th:only-of-type {\n        vertical-align: middle;\n    }\n\n    .dataframe tbody tr th {\n        vertical-align: top;\n    }\n\n    .dataframe thead th {\n        text-align: right;\n    }\n</style>\n<table border=\"1\" class=\"dataframe\">\n  <thead>\n    <tr style=\"text-align: right;\">\n      <th></th>\n      <th>date</th>\n      <th>source</th>\n      <th>content</th>\n      <th>province</th>\n      <th>user_0</th>\n      <th>user_1</th>\n      <th>user_2</th>\n      <th>user_3</th>\n      <th>user_4</th>\n      <th>user_5</th>\n      <th>...</th>\n      <th>user_9</th>\n      <th>user_10</th>\n      <th>user_11</th>\n      <th>user_12</th>\n      <th>user_13</th>\n      <th>user_14</th>\n      <th>user_15</th>\n      <th>user_16</th>\n      <th>user_17</th>\n      <th>like</th>\n    </tr>\n  </thead>\n  <tbody>\n    <tr>\n      <th>0</th>\n      <td>2022-02-18</td>\n      <td>北京日报客户端</td>\n      <td>有人从香港游泳偷渡到深圳湾被捕？假的！系轻生被救！</td>\n      <td>广东</td>\n      <td>0</td>\n      <td>0</td>\n      <td>0</td>\n      <td>0</td>\n      <td>0</td>\n      <td>0</td>\n      <td>...</td>\n      <td>0</td>\n      <td>0</td>\n      <td>0</td>\n      <td>0</td>\n      <td>0</td>\n      <td>0</td>\n      <td>0</td>\n      <td>0</td>\n      <td>0</td>\n      <td>0</td>\n    </tr>\n    <tr>\n      <th>1</th>\n      <td>2022-02-18</td>\n      <td>大河报、羊城晚报</td>\n      <td>近日，社交媒体上一则题为“河南一位老爷爷考上清华大学被顶替”的消息引发网友关注和转发。消息...</td>\n      <td>河南</td>\n      <td>0</td>\n      <td>0</td>\n      <td>0</td>\n      <td>0</td>\n      <td>0</td>\n      <td>1</td>\n      <td>...</td>\n      <td>0</td>\n      <td>0</td>\n      <td>0</td>\n      <td>0</td>\n      <td>0</td>\n      <td>0</td>\n      <td>0</td>\n      <td>0</td>\n      <td>0</td>\n      <td>41</td>\n    </tr>\n    <tr>\n      <th>2</th>\n      <td>2022-02-17</td>\n      <td>南方都市报、大众网</td>\n      <td>近日，网传湖南衡阳“南岳衡山寺庙”高薪招聘住持，月薪高达5万元，弹性工作制，下班后原则上不...</td>\n      <td>湖南</td>\n      <td>0</td>\n      <td>0</td>\n      <td>0</td>\n      <td>0</td>\n      <td>0</td>\n      <td>0</td>\n      <td>...</td>\n      <td>0</td>\n      <td>0</td>\n      <td>0</td>\n      <td>0</td>\n      <td>0</td>\n      <td>0</td>\n      <td>1</td>\n      <td>0</td>\n      <td>0</td>\n      <td>26</td>\n    </tr>\n    <tr>\n      <th>3</th>\n      <td>2022-02-17</td>\n      <td>江苏省互联网举报中心</td>\n      <td>近日，网传消息称“苏州市独墅湖医院正在建方舱”。该消息发布后，引发关注讨论。 经核实，网传...</td>\n      <td>江苏</td>\n      <td>0</td>\n      <td>0</td>\n      <td>0</td>\n      <td>0</td>\n      <td>0</td>\n      <td>0</td>\n      <td>...</td>\n      <td>0</td>\n      <td>0</td>\n      <td>0</td>\n      <td>0</td>\n      <td>0</td>\n      <td>0</td>\n      <td>0</td>\n      <td>0</td>\n      <td>0</td>\n      <td>31</td>\n    </tr>\n    <tr>\n      <th>4</th>\n      <td>2022-02-16</td>\n      <td>中国新闻网</td>\n      <td>在塞企业组织包机载客回国？中国驻塞内加尔使馆辟谣！</td>\n      <td>NaN</td>\n      <td>0</td>\n      <td>0</td>\n      <td>0</td>\n      <td>0</td>\n      <td>0</td>\n      <td>0</td>\n      <td>...</td>\n      <td>0</td>\n      <td>0</td>\n      <td>0</td>\n      <td>0</td>\n      <td>0</td>\n      <td>0</td>\n      <td>0</td>\n      <td>0</td>\n      <td>0</td>\n      <td>0</td>\n    </tr>\n  </tbody>\n</table>\n<p>5 rows × 23 columns</p>\n</div>"
     },
     "execution_count": 12,
     "metadata": {},
     "output_type": "execute_result"
    }
   ],
   "source": [
    "df.head()"
   ],
   "metadata": {
    "collapsed": false
   }
  },
  {
   "cell_type": "code",
   "execution_count": 13,
   "outputs": [
    {
     "name": "stdout",
     "output_type": "stream",
     "text": [
      "<class 'pandas.core.frame.DataFrame'>\n",
      "Index: 366 entries, 0 to 365\n",
      "Data columns (total 23 columns):\n",
      " #   Column    Non-Null Count  Dtype \n",
      "---  ------    --------------  ----- \n",
      " 0   date      366 non-null    object\n",
      " 1   source    360 non-null    object\n",
      " 2   content   366 non-null    object\n",
      " 3   province  277 non-null    object\n",
      " 4   user_0    366 non-null    int64 \n",
      " 5   user_1    366 non-null    int64 \n",
      " 6   user_2    366 non-null    int64 \n",
      " 7   user_3    366 non-null    int64 \n",
      " 8   user_4    366 non-null    int64 \n",
      " 9   user_5    366 non-null    int64 \n",
      " 10  user_6    366 non-null    int64 \n",
      " 11  user_7    366 non-null    int64 \n",
      " 12  user_8    366 non-null    int64 \n",
      " 13  user_9    366 non-null    int64 \n",
      " 14  user_10   366 non-null    int64 \n",
      " 15  user_11   366 non-null    int64 \n",
      " 16  user_12   366 non-null    int64 \n",
      " 17  user_13   366 non-null    int64 \n",
      " 18  user_14   366 non-null    int64 \n",
      " 19  user_15   366 non-null    int64 \n",
      " 20  user_16   366 non-null    int64 \n",
      " 21  user_17   366 non-null    int64 \n",
      " 22  like      366 non-null    int64 \n",
      "dtypes: int64(19), object(4)\n",
      "memory usage: 68.6+ KB\n"
     ]
    }
   ],
   "source": [
    "df.info()"
   ],
   "metadata": {
    "collapsed": false
   }
  },
  {
   "cell_type": "code",
   "execution_count": 14,
   "outputs": [
    {
     "data": {
      "text/plain": "           user_0      user_1     user_2      user_3      user_4      user_5   \ncount  366.000000  366.000000  366.00000  366.000000  366.000000  366.000000  \\\nmean     0.040984    0.188525    0.04918    0.030055    0.010929    0.038251   \nstd      0.198524    0.391666    0.21654    0.170971    0.104111    0.192065   \nmin      0.000000    0.000000    0.00000    0.000000    0.000000    0.000000   \n25%      0.000000    0.000000    0.00000    0.000000    0.000000    0.000000   \n50%      0.000000    0.000000    0.00000    0.000000    0.000000    0.000000   \n75%      0.000000    0.000000    0.00000    0.000000    0.000000    0.000000   \nmax      1.000000    1.000000    1.00000    1.000000    1.000000    1.000000   \n\n           user_6      user_7      user_8      user_9     user_10     user_11   \ncount  366.000000  366.000000  366.000000  366.000000  366.000000  366.000000  \\\nmean     0.046448    0.120219    0.038251    0.038251    0.087432    0.095628   \nstd      0.210742    0.325662    0.192065    0.192065    0.282853    0.294484   \nmin      0.000000    0.000000    0.000000    0.000000    0.000000    0.000000   \n25%      0.000000    0.000000    0.000000    0.000000    0.000000    0.000000   \n50%      0.000000    0.000000    0.000000    0.000000    0.000000    0.000000   \n75%      0.000000    0.000000    0.000000    0.000000    0.000000    0.000000   \nmax      1.000000    1.000000    1.000000    1.000000    1.000000    1.000000   \n\n          user_12     user_13     user_14     user_15     user_16     user_17   \ncount  366.000000  366.000000  366.000000  366.000000  366.000000  366.000000  \\\nmean     0.027322    0.024590    0.021858    0.095628    0.019126    0.021858   \nstd      0.163244    0.155084    0.146420    0.294484    0.137154    0.146420   \nmin      0.000000    0.000000    0.000000    0.000000    0.000000    0.000000   \n25%      0.000000    0.000000    0.000000    0.000000    0.000000    0.000000   \n50%      0.000000    0.000000    0.000000    0.000000    0.000000    0.000000   \n75%      0.000000    0.000000    0.000000    0.000000    0.000000    0.000000   \nmax      1.000000    1.000000    1.000000    1.000000    1.000000    1.000000   \n\n              like  \ncount   366.000000  \nmean     72.590164  \nstd     159.193795  \nmin       0.000000  \n25%      20.000000  \n50%      34.000000  \n75%      77.000000  \nmax    2495.000000  ",
      "text/html": "<div>\n<style scoped>\n    .dataframe tbody tr th:only-of-type {\n        vertical-align: middle;\n    }\n\n    .dataframe tbody tr th {\n        vertical-align: top;\n    }\n\n    .dataframe thead th {\n        text-align: right;\n    }\n</style>\n<table border=\"1\" class=\"dataframe\">\n  <thead>\n    <tr style=\"text-align: right;\">\n      <th></th>\n      <th>user_0</th>\n      <th>user_1</th>\n      <th>user_2</th>\n      <th>user_3</th>\n      <th>user_4</th>\n      <th>user_5</th>\n      <th>user_6</th>\n      <th>user_7</th>\n      <th>user_8</th>\n      <th>user_9</th>\n      <th>user_10</th>\n      <th>user_11</th>\n      <th>user_12</th>\n      <th>user_13</th>\n      <th>user_14</th>\n      <th>user_15</th>\n      <th>user_16</th>\n      <th>user_17</th>\n      <th>like</th>\n    </tr>\n  </thead>\n  <tbody>\n    <tr>\n      <th>count</th>\n      <td>366.000000</td>\n      <td>366.000000</td>\n      <td>366.00000</td>\n      <td>366.000000</td>\n      <td>366.000000</td>\n      <td>366.000000</td>\n      <td>366.000000</td>\n      <td>366.000000</td>\n      <td>366.000000</td>\n      <td>366.000000</td>\n      <td>366.000000</td>\n      <td>366.000000</td>\n      <td>366.000000</td>\n      <td>366.000000</td>\n      <td>366.000000</td>\n      <td>366.000000</td>\n      <td>366.000000</td>\n      <td>366.000000</td>\n      <td>366.000000</td>\n    </tr>\n    <tr>\n      <th>mean</th>\n      <td>0.040984</td>\n      <td>0.188525</td>\n      <td>0.04918</td>\n      <td>0.030055</td>\n      <td>0.010929</td>\n      <td>0.038251</td>\n      <td>0.046448</td>\n      <td>0.120219</td>\n      <td>0.038251</td>\n      <td>0.038251</td>\n      <td>0.087432</td>\n      <td>0.095628</td>\n      <td>0.027322</td>\n      <td>0.024590</td>\n      <td>0.021858</td>\n      <td>0.095628</td>\n      <td>0.019126</td>\n      <td>0.021858</td>\n      <td>72.590164</td>\n    </tr>\n    <tr>\n      <th>std</th>\n      <td>0.198524</td>\n      <td>0.391666</td>\n      <td>0.21654</td>\n      <td>0.170971</td>\n      <td>0.104111</td>\n      <td>0.192065</td>\n      <td>0.210742</td>\n      <td>0.325662</td>\n      <td>0.192065</td>\n      <td>0.192065</td>\n      <td>0.282853</td>\n      <td>0.294484</td>\n      <td>0.163244</td>\n      <td>0.155084</td>\n      <td>0.146420</td>\n      <td>0.294484</td>\n      <td>0.137154</td>\n      <td>0.146420</td>\n      <td>159.193795</td>\n    </tr>\n    <tr>\n      <th>min</th>\n      <td>0.000000</td>\n      <td>0.000000</td>\n      <td>0.00000</td>\n      <td>0.000000</td>\n      <td>0.000000</td>\n      <td>0.000000</td>\n      <td>0.000000</td>\n      <td>0.000000</td>\n      <td>0.000000</td>\n      <td>0.000000</td>\n      <td>0.000000</td>\n      <td>0.000000</td>\n      <td>0.000000</td>\n      <td>0.000000</td>\n      <td>0.000000</td>\n      <td>0.000000</td>\n      <td>0.000000</td>\n      <td>0.000000</td>\n      <td>0.000000</td>\n    </tr>\n    <tr>\n      <th>25%</th>\n      <td>0.000000</td>\n      <td>0.000000</td>\n      <td>0.00000</td>\n      <td>0.000000</td>\n      <td>0.000000</td>\n      <td>0.000000</td>\n      <td>0.000000</td>\n      <td>0.000000</td>\n      <td>0.000000</td>\n      <td>0.000000</td>\n      <td>0.000000</td>\n      <td>0.000000</td>\n      <td>0.000000</td>\n      <td>0.000000</td>\n      <td>0.000000</td>\n      <td>0.000000</td>\n      <td>0.000000</td>\n      <td>0.000000</td>\n      <td>20.000000</td>\n    </tr>\n    <tr>\n      <th>50%</th>\n      <td>0.000000</td>\n      <td>0.000000</td>\n      <td>0.00000</td>\n      <td>0.000000</td>\n      <td>0.000000</td>\n      <td>0.000000</td>\n      <td>0.000000</td>\n      <td>0.000000</td>\n      <td>0.000000</td>\n      <td>0.000000</td>\n      <td>0.000000</td>\n      <td>0.000000</td>\n      <td>0.000000</td>\n      <td>0.000000</td>\n      <td>0.000000</td>\n      <td>0.000000</td>\n      <td>0.000000</td>\n      <td>0.000000</td>\n      <td>34.000000</td>\n    </tr>\n    <tr>\n      <th>75%</th>\n      <td>0.000000</td>\n      <td>0.000000</td>\n      <td>0.00000</td>\n      <td>0.000000</td>\n      <td>0.000000</td>\n      <td>0.000000</td>\n      <td>0.000000</td>\n      <td>0.000000</td>\n      <td>0.000000</td>\n      <td>0.000000</td>\n      <td>0.000000</td>\n      <td>0.000000</td>\n      <td>0.000000</td>\n      <td>0.000000</td>\n      <td>0.000000</td>\n      <td>0.000000</td>\n      <td>0.000000</td>\n      <td>0.000000</td>\n      <td>77.000000</td>\n    </tr>\n    <tr>\n      <th>max</th>\n      <td>1.000000</td>\n      <td>1.000000</td>\n      <td>1.00000</td>\n      <td>1.000000</td>\n      <td>1.000000</td>\n      <td>1.000000</td>\n      <td>1.000000</td>\n      <td>1.000000</td>\n      <td>1.000000</td>\n      <td>1.000000</td>\n      <td>1.000000</td>\n      <td>1.000000</td>\n      <td>1.000000</td>\n      <td>1.000000</td>\n      <td>1.000000</td>\n      <td>1.000000</td>\n      <td>1.000000</td>\n      <td>1.000000</td>\n      <td>2495.000000</td>\n    </tr>\n  </tbody>\n</table>\n</div>"
     },
     "execution_count": 14,
     "metadata": {},
     "output_type": "execute_result"
    }
   ],
   "source": [
    "df.describe()"
   ],
   "metadata": {
    "collapsed": false
   }
  },
  {
   "cell_type": "code",
   "execution_count": 3,
   "outputs": [
    {
     "name": "stderr",
     "output_type": "stream",
     "text": [
      "Building prefix dict from the default dictionary ...\n",
      "Loading model from cache /tmp/jieba.cache\n",
      "Loading model cost 0.488 seconds.\n",
      "Prefix dict has been built successfully.\n"
     ]
    }
   ],
   "source": [
    "from data_preprocess import get_preprocessed_data\n",
    "\n",
    "df = get_preprocessed_data()"
   ],
   "metadata": {
    "collapsed": false
   }
  },
  {
   "cell_type": "code",
   "execution_count": 4,
   "outputs": [
    {
     "name": "stdout",
     "output_type": "stream",
     "text": [
      "<class 'pandas.core.frame.DataFrame'>\n",
      "Index: 366 entries, 0 to 365\n",
      "Data columns (total 25 columns):\n",
      " #   Column         Non-Null Count  Dtype         \n",
      "---  ------         --------------  -----         \n",
      " 0   date           366 non-null    datetime64[ns]\n",
      " 1   source         360 non-null    object        \n",
      " 2   content        366 non-null    object        \n",
      " 3   province       309 non-null    object        \n",
      " 4   user_0         366 non-null    int64         \n",
      " 5   user_1         366 non-null    int64         \n",
      " 6   user_2         366 non-null    int64         \n",
      " 7   user_3         366 non-null    int64         \n",
      " 8   user_4         366 non-null    int64         \n",
      " 9   user_5         366 non-null    int64         \n",
      " 10  user_6         366 non-null    int64         \n",
      " 11  user_7         366 non-null    int64         \n",
      " 12  user_8         366 non-null    int64         \n",
      " 13  user_9         366 non-null    int64         \n",
      " 14  user_10        366 non-null    int64         \n",
      " 15  user_11        366 non-null    int64         \n",
      " 16  user_12        366 non-null    int64         \n",
      " 17  user_13        366 non-null    int64         \n",
      " 18  user_14        366 non-null    int64         \n",
      " 19  user_15        366 non-null    int64         \n",
      " 20  user_16        366 non-null    int64         \n",
      " 21  user_17        366 non-null    int64         \n",
      " 22  like           366 non-null    int64         \n",
      " 23  log_like       366 non-null    float64       \n",
      " 24  content_token  366 non-null    object        \n",
      "dtypes: datetime64[ns](1), float64(1), int64(19), object(4)\n",
      "memory usage: 74.3+ KB\n"
     ]
    }
   ],
   "source": [
    "df.info()"
   ],
   "metadata": {
    "collapsed": false
   }
  },
  {
   "cell_type": "code",
   "execution_count": 5,
   "outputs": [
    {
     "data": {
      "text/plain": "                                date      user_0      user_1     user_2   \ncount                            366  366.000000  366.000000  366.00000  \\\nmean   2021-12-20 22:01:58.032786944    0.040984    0.188525    0.04918   \nmin              2021-11-07 00:00:00    0.000000    0.000000    0.00000   \n50%              2021-12-20 12:00:00    0.000000    0.000000    0.00000   \nmax              2022-02-18 00:00:00    1.000000    1.000000    1.00000   \nstd                              NaN    0.198524    0.391666    0.21654   \n\n           user_3      user_4      user_5      user_6      user_7      user_8   \ncount  366.000000  366.000000  366.000000  366.000000  366.000000  366.000000  \\\nmean     0.030055    0.010929    0.038251    0.046448    0.120219    0.038251   \nmin      0.000000    0.000000    0.000000    0.000000    0.000000    0.000000   \n50%      0.000000    0.000000    0.000000    0.000000    0.000000    0.000000   \nmax      1.000000    1.000000    1.000000    1.000000    1.000000    1.000000   \nstd      0.170971    0.104111    0.192065    0.210742    0.325662    0.192065   \n\n       ...     user_10     user_11     user_12     user_13     user_14   \ncount  ...  366.000000  366.000000  366.000000  366.000000  366.000000  \\\nmean   ...    0.087432    0.095628    0.027322    0.024590    0.021858   \nmin    ...    0.000000    0.000000    0.000000    0.000000    0.000000   \n50%    ...    0.000000    0.000000    0.000000    0.000000    0.000000   \nmax    ...    1.000000    1.000000    1.000000    1.000000    1.000000   \nstd    ...    0.282853    0.294484    0.163244    0.155084    0.146420   \n\n          user_15     user_16     user_17         like    log_like  \ncount  366.000000  366.000000  366.000000   366.000000  366.000000  \nmean     0.095628    0.019126    0.021858    72.590164    3.675683  \nmin      0.000000    0.000000    0.000000     0.000000    0.000000  \n50%      0.000000    0.000000    0.000000    34.000000    3.555348  \nmax      1.000000    1.000000    1.000000  2495.000000    7.822445  \nstd      0.294484    0.137154    0.146420   159.193795    1.080219  \n\n[6 rows x 21 columns]",
      "text/html": "<div>\n<style scoped>\n    .dataframe tbody tr th:only-of-type {\n        vertical-align: middle;\n    }\n\n    .dataframe tbody tr th {\n        vertical-align: top;\n    }\n\n    .dataframe thead th {\n        text-align: right;\n    }\n</style>\n<table border=\"1\" class=\"dataframe\">\n  <thead>\n    <tr style=\"text-align: right;\">\n      <th></th>\n      <th>date</th>\n      <th>user_0</th>\n      <th>user_1</th>\n      <th>user_2</th>\n      <th>user_3</th>\n      <th>user_4</th>\n      <th>user_5</th>\n      <th>user_6</th>\n      <th>user_7</th>\n      <th>user_8</th>\n      <th>...</th>\n      <th>user_10</th>\n      <th>user_11</th>\n      <th>user_12</th>\n      <th>user_13</th>\n      <th>user_14</th>\n      <th>user_15</th>\n      <th>user_16</th>\n      <th>user_17</th>\n      <th>like</th>\n      <th>log_like</th>\n    </tr>\n  </thead>\n  <tbody>\n    <tr>\n      <th>count</th>\n      <td>366</td>\n      <td>366.000000</td>\n      <td>366.000000</td>\n      <td>366.00000</td>\n      <td>366.000000</td>\n      <td>366.000000</td>\n      <td>366.000000</td>\n      <td>366.000000</td>\n      <td>366.000000</td>\n      <td>366.000000</td>\n      <td>...</td>\n      <td>366.000000</td>\n      <td>366.000000</td>\n      <td>366.000000</td>\n      <td>366.000000</td>\n      <td>366.000000</td>\n      <td>366.000000</td>\n      <td>366.000000</td>\n      <td>366.000000</td>\n      <td>366.000000</td>\n      <td>366.000000</td>\n    </tr>\n    <tr>\n      <th>mean</th>\n      <td>2021-12-20 22:01:58.032786944</td>\n      <td>0.040984</td>\n      <td>0.188525</td>\n      <td>0.04918</td>\n      <td>0.030055</td>\n      <td>0.010929</td>\n      <td>0.038251</td>\n      <td>0.046448</td>\n      <td>0.120219</td>\n      <td>0.038251</td>\n      <td>...</td>\n      <td>0.087432</td>\n      <td>0.095628</td>\n      <td>0.027322</td>\n      <td>0.024590</td>\n      <td>0.021858</td>\n      <td>0.095628</td>\n      <td>0.019126</td>\n      <td>0.021858</td>\n      <td>72.590164</td>\n      <td>3.675683</td>\n    </tr>\n    <tr>\n      <th>min</th>\n      <td>2021-11-07 00:00:00</td>\n      <td>0.000000</td>\n      <td>0.000000</td>\n      <td>0.00000</td>\n      <td>0.000000</td>\n      <td>0.000000</td>\n      <td>0.000000</td>\n      <td>0.000000</td>\n      <td>0.000000</td>\n      <td>0.000000</td>\n      <td>...</td>\n      <td>0.000000</td>\n      <td>0.000000</td>\n      <td>0.000000</td>\n      <td>0.000000</td>\n      <td>0.000000</td>\n      <td>0.000000</td>\n      <td>0.000000</td>\n      <td>0.000000</td>\n      <td>0.000000</td>\n      <td>0.000000</td>\n    </tr>\n    <tr>\n      <th>50%</th>\n      <td>2021-12-20 12:00:00</td>\n      <td>0.000000</td>\n      <td>0.000000</td>\n      <td>0.00000</td>\n      <td>0.000000</td>\n      <td>0.000000</td>\n      <td>0.000000</td>\n      <td>0.000000</td>\n      <td>0.000000</td>\n      <td>0.000000</td>\n      <td>...</td>\n      <td>0.000000</td>\n      <td>0.000000</td>\n      <td>0.000000</td>\n      <td>0.000000</td>\n      <td>0.000000</td>\n      <td>0.000000</td>\n      <td>0.000000</td>\n      <td>0.000000</td>\n      <td>34.000000</td>\n      <td>3.555348</td>\n    </tr>\n    <tr>\n      <th>max</th>\n      <td>2022-02-18 00:00:00</td>\n      <td>1.000000</td>\n      <td>1.000000</td>\n      <td>1.00000</td>\n      <td>1.000000</td>\n      <td>1.000000</td>\n      <td>1.000000</td>\n      <td>1.000000</td>\n      <td>1.000000</td>\n      <td>1.000000</td>\n      <td>...</td>\n      <td>1.000000</td>\n      <td>1.000000</td>\n      <td>1.000000</td>\n      <td>1.000000</td>\n      <td>1.000000</td>\n      <td>1.000000</td>\n      <td>1.000000</td>\n      <td>1.000000</td>\n      <td>2495.000000</td>\n      <td>7.822445</td>\n    </tr>\n    <tr>\n      <th>std</th>\n      <td>NaN</td>\n      <td>0.198524</td>\n      <td>0.391666</td>\n      <td>0.21654</td>\n      <td>0.170971</td>\n      <td>0.104111</td>\n      <td>0.192065</td>\n      <td>0.210742</td>\n      <td>0.325662</td>\n      <td>0.192065</td>\n      <td>...</td>\n      <td>0.282853</td>\n      <td>0.294484</td>\n      <td>0.163244</td>\n      <td>0.155084</td>\n      <td>0.146420</td>\n      <td>0.294484</td>\n      <td>0.137154</td>\n      <td>0.146420</td>\n      <td>159.193795</td>\n      <td>1.080219</td>\n    </tr>\n  </tbody>\n</table>\n<p>6 rows × 21 columns</p>\n</div>"
     },
     "execution_count": 5,
     "metadata": {},
     "output_type": "execute_result"
    }
   ],
   "source": [
    "df.describe(percentiles=[0.5])"
   ],
   "metadata": {
    "collapsed": false
   }
  },
  {
   "cell_type": "code",
   "execution_count": 6,
   "outputs": [
    {
     "data": {
      "text/plain": "['网传', '横', '州市', '马', '山镇', '太宁', '村有', '阳性', '病例', '接触', '谣言']"
     },
     "execution_count": 6,
     "metadata": {},
     "output_type": "execute_result"
    }
   ],
   "source": [
    "df.iloc[7]['content_token']"
   ],
   "metadata": {
    "collapsed": false
   }
  },
  {
   "cell_type": "code",
   "execution_count": 7,
   "outputs": [
    {
     "data": {
      "text/plain": "<Figure size 800x400 with 2 Axes>",
      "image/png": "[encoded data removed]"
     },
     "metadata": {},
     "output_type": "display_data"
    }
   ],
   "source": [
    "_, axes = plt.subplots(1, 2, figsize=(8, 4))\n",
    "sns.histplot(df['like'], ax=axes[0], color='grey', stat='density')\n",
    "axes[0].set_xlim(0, 1000)  # 限制横坐标范围，防止尾部过长\n",
    "sns.kdeplot(df['like'], ax=axes[0], color='blue', ls='--')\n",
    "sns.histplot(df['log_like'], ax=axes[1],color='grey', stat='density')\n",
    "sns.kdeplot(df['log_like'], ax=axes[1], color='blue', ls='--')\n",
    "plt.savefig('./figures/loglike_like_hist.pdf', bbox_inches='tight')"
   ],
   "metadata": {
    "collapsed": false
   }
  },
  {
   "cell_type": "markdown",
   "source": [
    "# Data Visualization"
   ],
   "metadata": {
    "collapsed": false
   }
  },
  {
   "cell_type": "markdown",
   "source": [
    "## Rumor Number"
   ],
   "metadata": {
    "collapsed": false
   }
  },
  {
   "cell_type": "code",
   "execution_count": 143,
   "outputs": [
    {
     "data": {
      "text/plain": "<Figure size 800x400 with 1 Axes>",
      "image/png": "[encoded data removed]"
     },
     "metadata": {},
     "output_type": "display_data"
    }
   ],
   "source": [
    "def rumor_num_moving_average(data: pd.DataFrame, window: int = 5) -> pd.Series:\n",
    "    rumor_per_day = data.groupby('date').size()\n",
    "    rumor_per_day_ma = rumor_per_day.rolling(window=window).mean()\n",
    "    return rumor_per_day_ma\n",
    "\n",
    "ma5 = rumor_num_moving_average(df, window=5)\n",
    "_, ax = plt.subplots(figsize=(8, 4))\n",
    "ax.plot(ma5, label='Moving Average (5)')\n",
    "plt.xticks(rotation=45, ha='right')\n",
    "ax.set_ylabel('Number of Rumors')\n",
    "ax.axhline(\n",
    "    y=ma5.mean(),\n",
    "    color='r', linestyle='--', label='Mean of Moving Average (5)'\n",
    ")\n",
    "ax.text(\n",
    "    df['date'].max() - pd.Timedelta(2, unit='D'),\n",
    "    ma5.mean() + 0.05,\n",
    "    '{:.2f}'.format(ma5.mean())\n",
    ")\n",
    "ax.axhline(\n",
    "    y=df.shape[0] / (df['date'].max() - df['date'].min()).days,\n",
    "    color='g', linestyle='--', label='Mean of Rumors per Day'\n",
    ")\n",
    "ax.text(\n",
    "    df['date'].max() - pd.Timedelta(2, unit='D'),\n",
    "    df.shape[0] / (df['date'].max() - df['date'].min()).days + 0.05,\n",
    "    '{:.2f}'.format(df.shape[0] / (df['date'].max() - df['date'].min()).days)\n",
    ")\n",
    "ax.legend()\n",
    "\n",
    "plt.savefig('./figures/rumor_num_ma5.pdf', bbox_inches='tight')"
   ],
   "metadata": {
    "collapsed": false
   }
  },
  {
   "cell_type": "code",
   "execution_count": 134,
   "outputs": [
    {
     "data": {
      "text/plain": "3.5533980582524274"
     },
     "execution_count": 134,
     "metadata": {},
     "output_type": "execute_result"
    }
   ],
   "source": [
    "state_geo = json.loads(requests.get(\"https://raw.githubusercontent.com/yezongyang/china-geojson/master/china.json\").text)\n",
    "total_provinces = [state_geo['features'][i]['properties']['name'] for i in range(len(state_geo['features']))]\n",
    "province_rumor = df.groupby('province').size()\n",
    "for i in total_provinces:\n",
    "    if i not in province_rumor.index:\n",
    "        province_rumor[i] = 0"
   ],
   "metadata": {
    "collapsed": false
   }
  },
  {
   "cell_type": "code",
   "execution_count": 109,
   "outputs": [],
   "source": [
    "province_rumor_data = pd.DataFrame({'province': province_rumor.index, 'rumor_num': province_rumor.values})\n",
    "province_rumor_data['type'] = province_rumor_data['rumor_num'].apply(lambda x: 'high' if x > 20 else 'low')\n",
    "province_rumor_data['rumor_num_for_size'] = province_rumor_data['rumor_num'].apply(lambda x: x + 1)\n",
    "province_rumor_data['rumor_num_for_color'] = province_rumor_data['rumor_num_for_size'].apply(lambda x: np.log(x))"
   ],
   "metadata": {
    "collapsed": false
   }
  },
  {
   "cell_type": "code",
   "execution_count": 120,
   "outputs": [],
   "source": [
    "pio.kaleido.scope.mathjax = None\n",
    "fig = px.choropleth(province_rumor_data, geojson=state_geo,\n",
    "                    locations='province', featureidkey=\"properties.name\",\n",
    "                    color_discrete_sequence=[\"rgba(102, 204, 255, 20)\"],\n",
    ")\n",
    "fig.update_traces(showlegend=False)\n",
    "fig2 = px.scatter_geo(province_rumor_data, geojson=state_geo,\n",
    "                      locations='province', featureidkey=\"properties.name\",\n",
    "                      size='rumor_num_for_size',\n",
    "                      color='rumor_num_for_color',\n",
    ")\n",
    "fig.add_trace(fig2.data[0])\n",
    "for i, frame in enumerate(fig.frames):\n",
    "    fig.frames[i].data += (fig2.frames[i].data[0],)\n",
    "fig.update_geos(fitbounds=\"locations\", visible=False, projection_type=\"natural earth\")\n",
    "fig.update_layout(margin={\"r\":0,\"t\":0,\"l\":0,\"b\":0}, paper_bgcolor='rgb(255, 255, 255)', plot_bgcolor='rgb(255, 255, 255)',\n",
    "                  geo=dict(bgcolor='rgb(255, 255, 255)'), font = dict(color = '#000000', family=\"Serif\"))\n",
    "fig.layout.coloraxis.colorbar.title = 'Scale of rumor numbers'\n",
    "fig.layout.coloraxis.colorbar.len = 0.8\n",
    "fig.write_image('./figures/rumor_num_choropleth.pdf')\n",
    "# fig.show()"
   ],
   "metadata": {
    "collapsed": false
   }
  },
  {
   "cell_type": "markdown",
   "source": [
    "## Users"
   ],
   "metadata": {
    "collapsed": false
   }
  },
  {
   "cell_type": "code",
   "execution_count": 16,
   "outputs": [],
   "source": [
    "user_data = df[[f'user_{i}' for i in range(18)]]"
   ],
   "metadata": {
    "collapsed": false
   }
  },
  {
   "cell_type": "code",
   "execution_count": 17,
   "outputs": [
    {
     "data": {
      "text/plain": "   user_0  user_1  user_2  user_3  user_4  user_5  user_6  user_7  user_8   \n0       0       0       0       0       0       0       0       0       0  \\\n1       0       0       0       0       0       1       0       0       0   \n2       0       0       0       0       0       0       0       0       0   \n3       0       0       0       0       0       0       0       0       0   \n4       0       0       0       0       0       0       0       0       0   \n\n   user_9  user_10  user_11  user_12  user_13  user_14  user_15  user_16   \n0       0        0        0        0        0        0        0        0  \\\n1       0        0        0        0        0        0        0        0   \n2       0        0        0        0        0        0        1        0   \n3       0        0        0        0        0        0        0        0   \n4       0        0        0        0        0        0        0        0   \n\n   user_17  \n0        0  \n1        0  \n2        0  \n3        0  \n4        0  ",
      "text/html": "<div>\n<style scoped>\n    .dataframe tbody tr th:only-of-type {\n        vertical-align: middle;\n    }\n\n    .dataframe tbody tr th {\n        vertical-align: top;\n    }\n\n    .dataframe thead th {\n        text-align: right;\n    }\n</style>\n<table border=\"1\" class=\"dataframe\">\n  <thead>\n    <tr style=\"text-align: right;\">\n      <th></th>\n      <th>user_0</th>\n      <th>user_1</th>\n      <th>user_2</th>\n      <th>user_3</th>\n      <th>user_4</th>\n      <th>user_5</th>\n      <th>user_6</th>\n      <th>user_7</th>\n      <th>user_8</th>\n      <th>user_9</th>\n      <th>user_10</th>\n      <th>user_11</th>\n      <th>user_12</th>\n      <th>user_13</th>\n      <th>user_14</th>\n      <th>user_15</th>\n      <th>user_16</th>\n      <th>user_17</th>\n    </tr>\n  </thead>\n  <tbody>\n    <tr>\n      <th>0</th>\n      <td>0</td>\n      <td>0</td>\n      <td>0</td>\n      <td>0</td>\n      <td>0</td>\n      <td>0</td>\n      <td>0</td>\n      <td>0</td>\n      <td>0</td>\n      <td>0</td>\n      <td>0</td>\n      <td>0</td>\n      <td>0</td>\n      <td>0</td>\n      <td>0</td>\n      <td>0</td>\n      <td>0</td>\n      <td>0</td>\n    </tr>\n    <tr>\n      <th>1</th>\n      <td>0</td>\n      <td>0</td>\n      <td>0</td>\n      <td>0</td>\n      <td>0</td>\n      <td>1</td>\n      <td>0</td>\n      <td>0</td>\n      <td>0</td>\n      <td>0</td>\n      <td>0</td>\n      <td>0</td>\n      <td>0</td>\n      <td>0</td>\n      <td>0</td>\n      <td>0</td>\n      <td>0</td>\n      <td>0</td>\n    </tr>\n    <tr>\n      <th>2</th>\n      <td>0</td>\n      <td>0</td>\n      <td>0</td>\n      <td>0</td>\n      <td>0</td>\n      <td>0</td>\n      <td>0</td>\n      <td>0</td>\n      <td>0</td>\n      <td>0</td>\n      <td>0</td>\n      <td>0</td>\n      <td>0</td>\n      <td>0</td>\n      <td>0</td>\n      <td>1</td>\n      <td>0</td>\n      <td>0</td>\n    </tr>\n    <tr>\n      <th>3</th>\n      <td>0</td>\n      <td>0</td>\n      <td>0</td>\n      <td>0</td>\n      <td>0</td>\n      <td>0</td>\n      <td>0</td>\n      <td>0</td>\n      <td>0</td>\n      <td>0</td>\n      <td>0</td>\n      <td>0</td>\n      <td>0</td>\n      <td>0</td>\n      <td>0</td>\n      <td>0</td>\n      <td>0</td>\n      <td>0</td>\n    </tr>\n    <tr>\n      <th>4</th>\n      <td>0</td>\n      <td>0</td>\n      <td>0</td>\n      <td>0</td>\n      <td>0</td>\n      <td>0</td>\n      <td>0</td>\n      <td>0</td>\n      <td>0</td>\n      <td>0</td>\n      <td>0</td>\n      <td>0</td>\n      <td>0</td>\n      <td>0</td>\n      <td>0</td>\n      <td>0</td>\n      <td>0</td>\n      <td>0</td>\n    </tr>\n  </tbody>\n</table>\n</div>"
     },
     "execution_count": 17,
     "metadata": {},
     "output_type": "execute_result"
    }
   ],
   "source": [
    "user_data.head()"
   ],
   "metadata": {
    "collapsed": false
   }
  },
  {
   "cell_type": "markdown",
   "source": [
    "## Text"
   ],
   "metadata": {
    "collapsed": false
   }
  },
  {
   "cell_type": "code",
   "execution_count": 4,
   "outputs": [],
   "source": [
    "from collections import Counter\n",
    "from wordcloud import WordCloud\n",
    "import jieba.analyse\n",
    "from gensim import corpora, models\n",
    "import pyLDAvis.gensim_models as gensimvis\n",
    "import pyLDAvis"
   ],
   "metadata": {
    "collapsed": false
   }
  },
  {
   "cell_type": "code",
   "execution_count": 5,
   "outputs": [],
   "source": [
    "df[\"topics\"] = df[\"content\"].apply(lambda x: jieba.analyse.extract_tags(x, topK=3))"
   ],
   "metadata": {
    "collapsed": false
   }
  },
  {
   "cell_type": "code",
   "execution_count": 6,
   "outputs": [],
   "source": [
    "c = Counter(df['content_token'].sum())"
   ],
   "metadata": {
    "collapsed": false
   }
  },
  {
   "cell_type": "code",
   "execution_count": 7,
   "outputs": [],
   "source": [
    "c2 = Counter(df['topics'].sum())"
   ],
   "metadata": {
    "collapsed": false
   }
  },
  {
   "cell_type": "code",
   "execution_count": 8,
   "outputs": [],
   "source": [
    "wordcloud = WordCloud(\n",
    "    font_path='/mnt/c/Windows/Fonts/simhei.ttf',\n",
    "    mask=np.array(Image.open(\"./data/ChinaMap.png\")),\n",
    "    background_color='white',\n",
    "    max_words=200,\n",
    "    max_font_size=200,\n",
    "    random_state=42\n",
    ").generate_from_frequencies(c)"
   ],
   "metadata": {
    "collapsed": false
   }
  },
  {
   "cell_type": "code",
   "execution_count": 13,
   "outputs": [
    {
     "data": {
      "text/plain": "<wordcloud.wordcloud.WordCloud at 0x7fb6100c88b0>"
     },
     "execution_count": 13,
     "metadata": {},
     "output_type": "execute_result"
    }
   ],
   "source": [
    "wordcloud.to_image()\n",
    "wordcloud.to_file('./figures/wordcloud_tokens.png')"
   ],
   "metadata": {
    "collapsed": false
   }
  },
  {
   "cell_type": "code",
   "execution_count": 10,
   "outputs": [],
   "source": [
    "wordcloud2 = WordCloud(\n",
    "    font_path='/mnt/c/Windows/Fonts/simhei.ttf',\n",
    "    mask=np.array(Image.open(\"./data/ChinaMap.png\")),\n",
    "    background_color='white',\n",
    "    max_words=200,\n",
    "    max_font_size=200,\n",
    "    random_state=42\n",
    ").generate_from_frequencies(c2)"
   ],
   "metadata": {
    "collapsed": false
   }
  },
  {
   "cell_type": "code",
   "execution_count": 14,
   "outputs": [
    {
     "data": {
      "text/plain": "<wordcloud.wordcloud.WordCloud at 0x7fb672ca5030>"
     },
     "execution_count": 14,
     "metadata": {},
     "output_type": "execute_result"
    }
   ],
   "source": [
    "wordcloud2.to_image()\n",
    "wordcloud2.to_file('./figures/wordcloud_topics.png')"
   ],
   "metadata": {
    "collapsed": false
   }
  },
  {
   "cell_type": "code",
   "execution_count": 15,
   "outputs": [],
   "source": [
    "words_list=[]\n",
    "for lines in df['content_token']:\n",
    "    words_list.append(lines)\n",
    "\n",
    "dictionary = corpora.Dictionary(words_list)\n",
    "corpus = [dictionary.doc2bow(words) for words in words_list]\n",
    "\n",
    "lda = models.ldamodel.LdaModel(corpus=corpus, id2word=dictionary, num_topics=5, random_state=np.random.RandomState(42))\n",
    "\n",
    "vis_data = gensimvis.prepare(lda, corpus, dictionary)\n",
    "# pyLDAvis.display(vis_data)"
   ],
   "metadata": {
    "collapsed": false
   }
  },
  {
   "cell_type": "code",
   "execution_count": null,
   "outputs": [],
   "source": [
    "# from pyecharts.charts import ThemeRiver\n",
    "# import pyecharts.options as opts\n",
    "#\n",
    "# data_list = data.values.tolist()\n",
    "# series = ['主题1','主题2','主题3','主题4','主题5','主题6']\n",
    "#\n",
    "# # 绘制，设置类型为时间\n",
    "# wc = ThemeRiver(init_opts=opts.InitOpts(height='600px')\n",
    "#                 ).add(series_name=series, data=data_list, singleaxis_opts=opts.SingleAxisOpts(type_='time')\n",
    "#                       ).render(\"theme.html\")"
   ],
   "metadata": {
    "collapsed": false
   }
  }
 ],
 "metadata": {
  "kernelspec": {
   "display_name": "Python 3 (ipykernel)",
   "language": "python",
   "name": "python3"
  },
  "language_info": {
   "codemirror_mode": {
    "name": "ipython",
    "version": 3
   },
   "file_extension": ".py",
   "mimetype": "text/x-python",
   "name": "python",
   "nbconvert_exporter": "python",
   "pygments_lexer": "ipython3",
   "version": "3.11.2"
  }
 },
 "nbformat": 4,
 "nbformat_minor": 5
}
